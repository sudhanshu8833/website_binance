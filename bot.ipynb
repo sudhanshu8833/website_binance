{
 "cells": [
  {
   "cell_type": "code",
   "execution_count": null,
   "metadata": {},
   "outputs": [],
   "source": [
    "import sqlite3\n",
    "\n",
    "conn = sqlite3.connect('db.sqlite3')\n",
    "from finta import TA\n",
    "import yfinance as yf\n",
    "import requests\n",
    "import time\n",
    "import pandas as pd\n",
    "import numpy as np\n",
    "import datetime as dt\n",
    "import json\n",
    "import math\n",
    "# from binance import Client, ThreadedWebsocketManager, ThreadedDepthCacheManager\n",
    "from finta import TA\n",
    "import yfinance as yf\n",
    "import requests\n",
    "import time\n",
    "import pandas as pd\n",
    "import numpy as np\n",
    "import datetime as dt\n",
    "import json\n",
    "# from binance import Client, ThreadedWebsocketManager, ThreadedDepthCacheManager\n",
    "\n",
    "from datetime import date\n",
    "\n",
    "import pandas as pd\n",
    "import time\n",
    "import sys\n",
    "\n",
    "# local modules\n",
    "from binance.client import Client\n",
    "from binance.enums import *\n",
    "# from indicator import indicators\n",
    "\n",
    "# local file\n",
    "import secrets\n",
    "\n",
    "import yfinance as yf\n",
    "import numpy as np\n",
    "import datetime as dt\n",
    "import requests \n",
    "import json \n",
    "import pandas as pd \n",
    "import numpy as np  \n",
    "import requests\n",
    "import time\n",
    "import urllib"
   ]
  },
  {
   "cell_type": "code",
   "execution_count": null,
   "metadata": {},
   "outputs": [],
   "source": [
    "# c= conn.cursor()\n",
    "\n",
    "# c.execute(\"\"\" CREATE TABLE customers (\n",
    "#     first_name text,\n",
    "#     last_name text,\n",
    "#     email text\n",
    "# )\"\"\")\n",
    "\n",
    "# conn.commit()\n",
    "\n",
    "# conn.close()"
   ]
  },
  {
   "cell_type": "code",
   "execution_count": null,
   "metadata": {},
   "outputs": [],
   "source": [
    "# conn = sqlite3.connect('db.sqlite3')\n",
    "# c= conn.cursor()\n",
    "\n",
    "# c.execute(\"INSERT INTO customers VALUES ('john','singh','john@gmail.com')\")\n",
    "\n",
    "\n",
    "# conn.commit()\n",
    "\n",
    "# conn.close()"
   ]
  },
  {
   "cell_type": "code",
   "execution_count": null,
   "metadata": {},
   "outputs": [],
   "source": [
    "# conn = sqlite3.connect('db.sqlite3')\n",
    "# c= conn.cursor()\n",
    "\n",
    "# manycustomers=[\n",
    "#     ('Wes','brown','g@gmail.com'),\n",
    "#     ('larry','brown','g@gmail.com'),\n",
    "# ]\n",
    "\n",
    "# c.executemany(\"INSERT INTO customers VALUES (?,?,?)\",manycustomers)\n",
    "\n",
    "\n",
    "# conn.commit()\n",
    "\n",
    "# conn.close()"
   ]
  },
  {
   "cell_type": "code",
   "execution_count": null,
   "metadata": {},
   "outputs": [],
   "source": [
    "import sqlite3\n",
    "conn = sqlite3.connect('db.sqlite3')\n",
    "c= conn.cursor()\n",
    "\n",
    "c.execute(\"SELECT * FROM shop_bot1\")\n",
    "\n",
    "data=c.fetchall()\n",
    "conn.commit()\n",
    "\n",
    "conn.close()"
   ]
  },
  {
   "cell_type": "code",
   "execution_count": null,
   "metadata": {},
   "outputs": [],
   "source": [
    "# import sqlite3\n",
    "# conn = sqlite3.connect('db.sqlite3')\n",
    "# c= conn.cursor()\n",
    "\n",
    "# c.execute(\"\"\"UPDATE shop_bot1 SET binance_API_keys ='HIGH STRING'\n",
    "#         WHERE id = '3'\n",
    "\n",
    "# \"\"\")\n",
    "\n",
    "# data=c.fetchall()\n",
    "# conn.commit()\n",
    "\n",
    "# conn.close()"
   ]
  },
  {
   "cell_type": "code",
   "execution_count": null,
   "metadata": {},
   "outputs": [],
   "source": []
  },
  {
   "cell_type": "code",
   "execution_count": null,
   "metadata": {},
   "outputs": [],
   "source": []
  },
  {
   "cell_type": "code",
   "execution_count": null,
   "metadata": {},
   "outputs": [],
   "source": []
  }
 ],
 "metadata": {
  "kernelspec": {
   "display_name": "Python 3.9.5 64-bit",
   "name": "python395jvsc74a57bd0aee8b7b246df8f9039afb4144a1f6fd8d2ca17a180786b69acc140d282b71a49"
  },
  "language_info": {
   "name": "python",
   "version": ""
  },
  "metadata": {
   "interpreter": {
    "hash": "aee8b7b246df8f9039afb4144a1f6fd8d2ca17a180786b69acc140d282b71a49"
   }
  },
  "orig_nbformat": 2
 },
 "nbformat": 4,
 "nbformat_minor": 2
}